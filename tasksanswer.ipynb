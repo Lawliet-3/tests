{
 "cells": [
  {
   "cell_type": "code",
   "execution_count": 1,
   "id": "f8516429",
   "metadata": {},
   "outputs": [],
   "source": [
    "import os\n",
    "import cv2"
   ]
  },
  {
   "cell_type": "code",
   "execution_count": 2,
   "id": "256092dd",
   "metadata": {},
   "outputs": [],
   "source": [
    "data_dir = 'test1/data'"
   ]
  },
  {
   "cell_type": "code",
   "execution_count": 3,
   "id": "5a2304bc",
   "metadata": {},
   "outputs": [],
   "source": [
    "image_dir = os.path.join(data_dir, 'images')\n",
    "label_dir = os.path.join(data_dir, 'labels')\n",
    "image_file = os.listdir(image_dir)\n",
    "label_file = os.listdir(label_dir)"
   ]
  },
  {
   "cell_type": "code",
   "execution_count": 4,
   "id": "d1deb13c",
   "metadata": {},
   "outputs": [],
   "source": [
    "missing_labels = [file for file in image_file if file.replace('.jpg', '.txt') not in label_file]"
   ]
  },
  {
   "cell_type": "code",
   "execution_count": 5,
   "id": "822f684e",
   "metadata": {},
   "outputs": [],
   "source": [
    "missing_images = [file for file in label_file if file.replace('.txt', '.jpg') not in image_file]"
   ]
  },
  {
   "cell_type": "code",
   "execution_count": 6,
   "id": "e880ed61",
   "metadata": {},
   "outputs": [
    {
     "name": "stdout",
     "output_type": "stream",
     "text": [
      "Missing Labels:\n",
      "image2.jpg\n",
      "image4.jpg\n",
      "\n",
      "Missing Images:\n"
     ]
    }
   ],
   "source": [
    "print(\"Missing Labels:\")\n",
    "for label in missing_labels:\n",
    "    print(label)\n",
    "\n",
    "print(\"\\nMissing Images:\")\n",
    "for image in missing_images:\n",
    "    print(image)"
   ]
  },
  {
   "cell_type": "code",
   "execution_count": 7,
   "id": "5cb4f919",
   "metadata": {},
   "outputs": [],
   "source": [
    "for image in image_file:\n",
    "    \n",
    "    label_file = image.replace('.jpg', '.txt')\n",
    "    label_path = os.path.join(label_dir, label_file)\n",
    "    \n",
    "    if not os.path.exists(label_path):\n",
    "        continue\n",
    "    \n",
    "    image_path = os.path.join(image_dir, image)\n",
    "    image = cv2.imread(image_path)\n",
    "    \n",
    "    with open(label_path, 'r') as file:\n",
    "        lines = file.readlines()\n",
    "        \n",
    "        for line in lines:\n",
    "            \n",
    "            label, x1, y1, x2, y2 = map(float, line.strip().split())\n",
    "            \n",
    "            x1, y1, x2, y2 = round(x1), round(y1), round(x2), round(y2)\n",
    "            \n",
    "            cv2.rectangle(image, (x1, y1), (x2, y2), (0,255,0), 2)\n",
    "            \n",
    "            cv2.putText(image, str(round(label)), (x1, y1 - 10), cv2.FONT_HERSHEY_SIMPLEX, 0.9, (0, 255, 0), 2)\n",
    "            \n",
    "        cv2.imshow('Image with bounding boxes', image) \n",
    "        cv2.waitKey(0)\n",
    "        cv2.destroyAllWindows()"
   ]
  },
  {
   "cell_type": "code",
   "execution_count": null,
   "id": "cdf73aa2",
   "metadata": {},
   "outputs": [],
   "source": []
  },
  {
   "cell_type": "code",
   "execution_count": null,
   "id": "8bb469d1",
   "metadata": {},
   "outputs": [],
   "source": []
  }
 ],
 "metadata": {
  "kernelspec": {
   "display_name": "Python 3 (ipykernel)",
   "language": "python",
   "name": "python3"
  },
  "language_info": {
   "codemirror_mode": {
    "name": "ipython",
    "version": 3
   },
   "file_extension": ".py",
   "mimetype": "text/x-python",
   "name": "python",
   "nbconvert_exporter": "python",
   "pygments_lexer": "ipython3",
   "version": "3.11.3"
  }
 },
 "nbformat": 4,
 "nbformat_minor": 5
}
